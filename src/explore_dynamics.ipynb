{
 "cells": [
  {
   "cell_type": "code",
   "execution_count": 2,
   "id": "2acbcd06",
   "metadata": {},
   "outputs": [
    {
     "ename": "ImportError",
     "evalue": "cannot import name 'plot_individual_case' from 'analysis_tools' (c:\\Users\\ToniDok\\Documents\\Lilla docs\\GitRepos\\relnonlin_predation\\relnonlin_predation\\src\\analysis_tools.py)",
     "output_type": "error",
     "traceback": [
      "\u001b[31m---------------------------------------------------------------------------\u001b[39m",
      "\u001b[31mImportError\u001b[39m                               Traceback (most recent call last)",
      "\u001b[36mCell\u001b[39m\u001b[36m \u001b[39m\u001b[32mIn[2]\u001b[39m\u001b[32m, line 1\u001b[39m\n\u001b[32m----> \u001b[39m\u001b[32m1\u001b[39m \u001b[38;5;28;01mfrom\u001b[39;00m\u001b[38;5;250m \u001b[39m\u001b[34;01manalysis_tools\u001b[39;00m\u001b[38;5;250m \u001b[39m\u001b[38;5;28;01mimport\u001b[39;00m plot_individual_case\n\u001b[32m      3\u001b[39m \u001b[38;5;66;03m# Params\u001b[39;00m\n\u001b[32m      4\u001b[39m params = {\n\u001b[32m      5\u001b[39m     \u001b[33m'\u001b[39m\u001b[33ma1\u001b[39m\u001b[33m'\u001b[39m: \u001b[32m1\u001b[39m,\n\u001b[32m      6\u001b[39m     \u001b[33m'\u001b[39m\u001b[33ma2\u001b[39m\u001b[33m'\u001b[39m: \u001b[32m8\u001b[39m,\n\u001b[32m   (...)\u001b[39m\u001b[32m     13\u001b[39m     \u001b[33m'\u001b[39m\u001b[33mdP\u001b[39m\u001b[33m'\u001b[39m: \u001b[32m0.25\u001b[39m\n\u001b[32m     14\u001b[39m }\n",
      "\u001b[31mImportError\u001b[39m: cannot import name 'plot_individual_case' from 'analysis_tools' (c:\\Users\\ToniDok\\Documents\\Lilla docs\\GitRepos\\relnonlin_predation\\relnonlin_predation\\src\\analysis_tools.py)"
     ]
    }
   ],
   "source": [
    "from analysis_tools import plot_individual_case\n",
    "\n",
    "# Params\n",
    "params = {\n",
    "    'a1': 1,\n",
    "    'a2': 8,\n",
    "    'aP': 1,\n",
    "    'h1': 0,\n",
    "    'h2': 0.5,\n",
    "    'hP': 0,\n",
    "    'd1': 0.2,\n",
    "    'd2': 1,\n",
    "    'dP': 0.25\n",
    "}\n",
    "\n",
    "plot_individual_case(params)"
   ]
  },
  {
   "cell_type": "code",
   "execution_count": null,
   "id": "45a23ec0",
   "metadata": {},
   "outputs": [],
   "source": []
  }
 ],
 "metadata": {
  "kernelspec": {
   "display_name": ".venv",
   "language": "python",
   "name": "python3"
  },
  "language_info": {
   "codemirror_mode": {
    "name": "ipython",
    "version": 3
   },
   "file_extension": ".py",
   "mimetype": "text/x-python",
   "name": "python",
   "nbconvert_exporter": "python",
   "pygments_lexer": "ipython3",
   "version": "3.12.3"
  }
 },
 "nbformat": 4,
 "nbformat_minor": 5
}
