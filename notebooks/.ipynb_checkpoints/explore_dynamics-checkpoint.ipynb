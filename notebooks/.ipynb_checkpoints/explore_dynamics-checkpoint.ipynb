{
 "cells": [
  {
   "cell_type": "code",
   "execution_count": 2,
   "id": "2acbcd06",
   "metadata": {},
   "outputs": [
    {
     "ename": "ImportError",
     "evalue": "cannot import name 'plot_individual_case' from 'analysis_tools' (C:\\Users\\ToniDok\\Documents\\Lilla docs\\GitRepos\\relnonlin_predation\\relnonlin_predation\\notebooks\\../src\\analysis_tools.py)",
     "output_type": "error",
     "traceback": [
      "\u001b[1;31m---------------------------------------------------------------------------\u001b[0m",
      "\u001b[1;31mImportError\u001b[0m                               Traceback (most recent call last)",
      "Cell \u001b[1;32mIn[2], line 3\u001b[0m\n\u001b[0;32m      1\u001b[0m \u001b[38;5;28;01mimport\u001b[39;00m \u001b[38;5;21;01msys\u001b[39;00m\n\u001b[0;32m      2\u001b[0m sys\u001b[38;5;241m.\u001b[39mpath\u001b[38;5;241m.\u001b[39minsert(\u001b[38;5;241m0\u001b[39m, \u001b[38;5;124m'\u001b[39m\u001b[38;5;124m../src\u001b[39m\u001b[38;5;124m'\u001b[39m)\n\u001b[1;32m----> 3\u001b[0m \u001b[38;5;28;01mfrom\u001b[39;00m \u001b[38;5;21;01manalysis_tools\u001b[39;00m \u001b[38;5;28;01mimport\u001b[39;00m plot_individual_case\n\u001b[0;32m      5\u001b[0m \u001b[38;5;66;03m# Params\u001b[39;00m\n\u001b[0;32m      6\u001b[0m params \u001b[38;5;241m=\u001b[39m {\n\u001b[0;32m      7\u001b[0m     \u001b[38;5;124m'\u001b[39m\u001b[38;5;124ma1\u001b[39m\u001b[38;5;124m'\u001b[39m: \u001b[38;5;241m1\u001b[39m,\n\u001b[0;32m      8\u001b[0m     \u001b[38;5;124m'\u001b[39m\u001b[38;5;124ma2\u001b[39m\u001b[38;5;124m'\u001b[39m: \u001b[38;5;241m8\u001b[39m,\n\u001b[1;32m   (...)\u001b[0m\n\u001b[0;32m     15\u001b[0m     \u001b[38;5;124m'\u001b[39m\u001b[38;5;124mdP\u001b[39m\u001b[38;5;124m'\u001b[39m: \u001b[38;5;241m0.25\u001b[39m\n\u001b[0;32m     16\u001b[0m }\n",
      "\u001b[1;31mImportError\u001b[0m: cannot import name 'plot_individual_case' from 'analysis_tools' (C:\\Users\\ToniDok\\Documents\\Lilla docs\\GitRepos\\relnonlin_predation\\relnonlin_predation\\notebooks\\../src\\analysis_tools.py)"
     ]
    }
   ],
   "source": [
    "import sys\n",
    "sys.path.insert(0, '../src')\n",
    "from analysis_tools import plot_individual_case\n",
    "\n",
    "# Params\n",
    "params = {\n",
    "    'a1': 1,\n",
    "    'a2': 8,\n",
    "    'aP': 1,\n",
    "    'h1': 0,\n",
    "    'h2': 0.5,\n",
    "    'hP': 0,\n",
    "    'd1': 0.2,\n",
    "    'd2': 1,\n",
    "    'dP': 0.25\n",
    "}\n",
    "\n",
    "plot_individual_case(params)"
   ]
  },
  {
   "cell_type": "code",
   "execution_count": null,
   "id": "c8c18157",
   "metadata": {},
   "outputs": [],
   "source": []
  },
  {
   "cell_type": "code",
   "execution_count": null,
   "id": "dce30ce6",
   "metadata": {},
   "outputs": [],
   "source": []
  },
  {
   "cell_type": "code",
   "execution_count": null,
   "id": "3e213c89",
   "metadata": {},
   "outputs": [],
   "source": []
  }
 ],
 "metadata": {
  "kernelspec": {
   "display_name": "Python 3 (ipykernel)",
   "language": "python",
   "name": "python3"
  },
  "language_info": {
   "codemirror_mode": {
    "name": "ipython",
    "version": 3
   },
   "file_extension": ".py",
   "mimetype": "text/x-python",
   "name": "python",
   "nbconvert_exporter": "python",
   "pygments_lexer": "ipython3",
   "version": "3.11.3"
  }
 },
 "nbformat": 4,
 "nbformat_minor": 5
}
